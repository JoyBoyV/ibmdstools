{
 "cells": [
  {
   "cell_type": "markdown",
   "metadata": {},
   "source": [
    "<center>\n",
    "    <img src=\"https://cf-courses-data.s3.us.cloud-object-storage.appdomain.cloud/IBMDeveloperSkillsNetwork-DS0105EN-SkillsNetwork/labs/Module2/images/SN_web_lightmode.png\" width=\"300\" alt=\"cognitiveclass.ai logo\">\n",
    "</center>\n"
   ]
  },
  {
   "cell_type": "markdown",
   "metadata": {},
   "source": [
    "#### Add your code below following the instructions given in the course\n"
   ]
  },
  {
   "cell_type": "markdown",
   "metadata": {},
   "source": [
    "# My Jupyter Notebook on IBM Watson Studio"
   ]
  },
  {
   "cell_type": "markdown",
   "metadata": {},
   "source": [
    "**Othmane Azzaf**"
   ]
  },
  {
   "cell_type": "markdown",
   "metadata": {},
   "source": [
    "Data scientist at one of the GAFAM"
   ]
  },
  {
   "cell_type": "markdown",
   "metadata": {},
   "source": [
    "*I am interested in data science for it's multiple real world applications, I am very passionate about problem solving and data-driven decision based on modeling algorithms*"
   ]
  },
  {
   "cell_type": "markdown",
   "metadata": {},
   "source": [
    "### The code below explains how to add two integers and print the output"
   ]
  },
  {
   "cell_type": "code",
   "execution_count": 4,
   "metadata": {},
   "outputs": [
    {
     "name": "stdout",
     "output_type": "stream",
     "text": [
      "12\n"
     ]
    }
   ],
   "source": [
    "x = 5+7\n",
    "print(x)"
   ]
  },
  {
   "cell_type": "markdown",
   "metadata": {},
   "source": [
    "-----"
   ]
  },
  {
   "cell_type": "markdown",
   "metadata": {},
   "source": [
    "<img src=\"data:image/png;base64,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\"/>"
   ]
  },
  {
   "cell_type": "markdown",
   "metadata": {},
   "source": [
    "The data science pipeline is : \n",
    "* Business Data Understanding\n",
    "* Data Cleaning\n",
    "* Data Processo"
   ]
  },
  {
   "cell_type": "code",
   "execution_count": null,
   "metadata": {},
   "outputs": [],
   "source": []
  }
 ],
 "metadata": {
  "kernelspec": {
   "display_name": "Python",
   "language": "python",
   "name": "conda-env-python-py"
  },
  "language_info": {
   "codemirror_mode": {
    "name": "ipython",
    "version": 3
   },
   "file_extension": ".py",
   "mimetype": "text/x-python",
   "name": "python",
   "nbconvert_exporter": "python",
   "pygments_lexer": "ipython3",
   "version": "3.7.12"
  }
 },
 "nbformat": 4,
 "nbformat_minor": 4
}
